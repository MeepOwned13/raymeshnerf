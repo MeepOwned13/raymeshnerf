{
 "cells": [
  {
   "cell_type": "code",
   "execution_count": null,
   "metadata": {},
   "outputs": [],
   "source": [
    "import mitsuba as mi\n",
    "mi.set_variant('cuda_ad_rgb')\n",
    "from mitsuba import ScalarTransform4f as ST\n",
    "from pathlib import Path"
   ]
  },
  {
   "cell_type": "markdown",
   "metadata": {},
   "source": [
    "## Mesh reading, image taking"
   ]
  },
  {
   "cell_type": "code",
   "execution_count": null,
   "metadata": {},
   "outputs": [],
   "source": [
    "obj = 'Weisshai_Great_White_Shark'\n",
    "obj_path = Path(f'../data/raw_objects/{obj}/').absolute()\n",
    "\n",
    "mesh: mi.Mesh = mi.load_dict({\n",
    "    'type': 'obj',\n",
    "    'filename': (obj_path / 'meshes/model.obj').as_posix(),\n",
    "})\n",
    "\n",
    "bbox = mesh.bbox()  # Used for re-centering and scaling to -1:1 bounding box\n",
    "\n",
    "mesh: mi.Mesh = mi.load_dict({\n",
    "    'type': 'obj',\n",
    "    'filename': (obj_path / 'meshes/model.obj').as_posix(),\n",
    "    'to_world': ST().scale(1 / max(abs(bbox.max - bbox.min) / 2)).translate(-(bbox.max + bbox.min) / 2),\n",
    "    'bsdf': {\n",
    "        'type': 'diffuse',\n",
    "        'reflectance': {\n",
    "            'type': 'bitmap',\n",
    "            'filename': (obj_path / 'materials/textures/texture.png').as_posix(),\n",
    "            'wrap_mode': 'clamp',\n",
    "            'filter_type': 'bilinear',\n",
    "        }\n",
    "    }\n",
    "})\n",
    "\n",
    "mesh.bbox()"
   ]
  },
  {
   "cell_type": "code",
   "execution_count": null,
   "metadata": {},
   "outputs": [],
   "source": [
    "scene: mi.Scene = mi.load_dict({\n",
    "    'type': 'scene',\n",
    "    # The keys below correspond to object IDs and can be chosen arbitrarily\n",
    "    'integrator': {'type': 'path'},\n",
    "    'light': {\n",
    "        'type': 'constant',\n",
    "        'radiance': {\n",
    "            'type': 'rgb',\n",
    "            'value': 1.0\n",
    "        }\n",
    "    },\n",
    "    'obj': mesh\n",
    "})\n",
    "\n",
    "def load_sensor(r, phi, theta) -> list[mi.Sensor]:\n",
    "    # Apply two rotations to convert from spherical coordinates to world 3D coordinates.\n",
    "    origin = ST().rotate([0, 0, 1], phi).rotate([0, 1, 0], theta) @ mi.ScalarPoint3f([0, 0, r])\n",
    "\n",
    "    return mi.load_dict({\n",
    "        'type': 'perspective',\n",
    "        'fov': 40,\n",
    "        'fov_axis': 'x',\n",
    "        'to_world': ST().look_at(\n",
    "            origin=origin,\n",
    "            target=[0, 0, 0],\n",
    "            up=[0, 0, 1]\n",
    "        ),\n",
    "        'sampler': {\n",
    "            'type': 'ldsampler',\n",
    "            'sample_count': 64,\n",
    "        },\n",
    "        'film': {\n",
    "            'type': 'hdrfilm',\n",
    "            'width': 800,\n",
    "            'height': 800,\n",
    "            'pixel_format': 'rgba',\n",
    "            'filter': {\n",
    "                'type': 'gaussian'\n",
    "            }\n",
    "        },\n",
    "    })\n",
    "\n",
    "sensor_count = 6\n",
    "\n",
    "radius = 4\n",
    "phis = [60.0 * i for i in range(sensor_count)]\n",
    "theta = 90.0\n",
    "\n",
    "sensors: list[mi.Sensor] = [load_sensor(radius, phi, theta) for phi in phis]\n",
    "images = [mi.render(scene, sensor=sensor) for sensor in sensors]\n",
    "\n",
    "from matplotlib import pyplot as plt\n",
    "fig = plt.figure(figsize=(20, 14))\n",
    "fig.subplots_adjust(wspace=0, hspace=0)\n",
    "for i in range(sensor_count):\n",
    "    ax = fig.add_subplot(2, 3, i + 1).imshow(images[i] ** (1.0 / 2.2))\n",
    "    plt.axis(\"off\")\n",
    "\n",
    "mi.util.write_bitmap(\"render.png\", images[5])"
   ]
  }
 ],
 "metadata": {
  "kernelspec": {
   "display_name": ".venv",
   "language": "python",
   "name": "python3"
  },
  "language_info": {
   "codemirror_mode": {
    "name": "ipython",
    "version": 3
   },
   "file_extension": ".py",
   "mimetype": "text/x-python",
   "name": "python",
   "nbconvert_exporter": "python",
   "pygments_lexer": "ipython3",
   "version": "3.12.4"
  }
 },
 "nbformat": 4,
 "nbformat_minor": 2
}
