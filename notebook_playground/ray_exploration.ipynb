{
 "cells": [
  {
   "cell_type": "code",
   "execution_count": null,
   "id": "2c66edf0",
   "metadata": {},
   "outputs": [],
   "source": [
    "# Allow importing from src\n",
    "import sys\n",
    "sys.path.insert(0, '../src/')"
   ]
  },
  {
   "cell_type": "code",
   "execution_count": null,
   "id": "dfb3f5c6",
   "metadata": {},
   "outputs": [],
   "source": [
    "from nerf import LNeRF\n",
    "from utils.data import load_npz\n",
    "from utils.rays import create_rays\n",
    "import matplotlib.pyplot as plt\n",
    "import torch\n",
    "from torch.nn import functional as F\n",
    "\n",
    "COMPUTE_DEVICE = torch.device('cpu')\n",
    "if torch.cuda.is_available():\n",
    "    COMPUTE_DEVICE = torch.device('cuda:0')\n",
    "elif torch.mps.is_available():\n",
    "    COMPUTE_DEVICE = torch.device('mps')\n",
    "print(f\"{COMPUTE_DEVICE=}\")"
   ]
  },
  {
   "cell_type": "code",
   "execution_count": null,
   "id": "04a05403",
   "metadata": {},
   "outputs": [],
   "source": [
    "model = LNeRF.load_from_checkpoint(\n",
    "    \"../lightning_logs/bober200x200/checkpoints/best_val_psnr_epoch=16.ckpt\",\n",
    "    map_location=COMPUTE_DEVICE,\n",
    "    hparams_file=\"../lightning_logs/bober200x200/hparams.yaml\"\n",
    ")\n",
    "\n",
    "_, c2ws, focal = load_npz(\"../data/BOBER.npz\")"
   ]
  },
  {
   "cell_type": "code",
   "execution_count": null,
   "id": "2d66e2a3",
   "metadata": {},
   "outputs": [],
   "source": [
    "model.hparams.batch_size = 2**6"
   ]
  },
  {
   "cell_type": "code",
   "execution_count": null,
   "id": "93443079",
   "metadata": {},
   "outputs": [],
   "source": [
    "img = model.render_image(400, 400, c2ws[3].to(COMPUTE_DEVICE), focal=focal.to(COMPUTE_DEVICE) * 2)\n",
    "plt.imshow(img.cpu().clamp(0,1))\n",
    "plt.axis('off')"
   ]
  },
  {
   "cell_type": "code",
   "execution_count": null,
   "id": "c04f1aa0",
   "metadata": {},
   "outputs": [],
   "source": [
    "torch.where(torch.isclose(img[..., 3], torch.tensor(0.0), atol=1e-1))"
   ]
  },
  {
   "cell_type": "code",
   "execution_count": null,
   "id": "3ae5cdea",
   "metadata": {},
   "outputs": [],
   "source": [
    "intrinsic = torch.tensor([\n",
    "    [focal.item() / 2, 0, 100 // 2],\n",
    "    [0, focal.item() / 2, 100 // 2],\n",
    "    [0, 0, 1],\n",
    "], dtype=torch.float32)\n",
    "\n",
    "origins, directions = create_rays(100, 100, intrinsic, c2ws[32])"
   ]
  },
  {
   "cell_type": "code",
   "execution_count": null,
   "id": "4240684d",
   "metadata": {},
   "outputs": [],
   "source": [
    "with torch.no_grad():\n",
    "    cc, cd, fc, fd = model.compute_along_rays(origins[20:50, 20:50].flatten(0,1).to(COMPUTE_DEVICE), directions[20:50, 20:50].flatten(0,1).to(COMPUTE_DEVICE),\n",
    "                                              coarse_samples=200, fine_samples=200)"
   ]
  },
  {
   "cell_type": "code",
   "execution_count": null,
   "id": "300c8ce6",
   "metadata": {},
   "outputs": [],
   "source": [
    "def render_rays(rgbs, depths):\n",
    "    device = rgbs.device\n",
    "\n",
    "    distances = depths[..., 1:] - depths[..., :-1]\n",
    "    # 1e10 ensures the last color is rendered no matter what\n",
    "    distances = torch.cat([distances, F.relu(model.hparams.far - depths[..., -1:])], -1)\n",
    "    # directions already normalized at ray calculation, so distances correspond to world already\n",
    "\n",
    "    alpha = 1.0 - torch.exp(-F.relu(rgbs[..., 3]) * distances)\n",
    "    # 1e10 ensures the last color is rendered no matter what\n",
    "    weights = alpha * torch.cumprod(\n",
    "        torch.cat([torch.ones((alpha.shape[0], 1), device=device), 1. - alpha + torch.finfo(rgbs.dtype).eps], -1), -1\n",
    "    )[:, :-1]\n",
    "\n",
    "    rgb = torch.sum(weights[..., None] * rgbs[..., :3], dim=-2)\n",
    "    depth = torch.sum(weights * depths, dim=-1)\n",
    "    acc = torch.sum(weights, dim=-1).unsqueeze(-1)\n",
    "\n",
    "    return rgb, depth, acc, alpha, weights\n",
    "\n",
    "rgb, depth, acc, alpha, weights = render_rays(fc, fd)\n",
    "\n",
    "rescaled_acc = acc - acc.min()\n",
    "rescaled_acc /= rescaled_acc.max()\n",
    "\n",
    "plt.imshow(torch.cat([rgb.reshape(30, 30, -1).cpu(), rescaled_acc.reshape(30, 30, -1).cpu()], dim=-1).clamp(0,1))\n",
    "\n",
    "torch.min(rescaled_acc), torch.max(rescaled_acc), torch.quantile(rescaled_acc, 0.4)"
   ]
  },
  {
   "cell_type": "code",
   "execution_count": null,
   "id": "a420811b",
   "metadata": {},
   "outputs": [],
   "source": [
    "fig, axs = plt.subplots(2, 2, figsize=(10, 10))\n",
    "idx = 20**2\n",
    "\n",
    "axs[0,0].set_title(\"Coarses\")\n",
    "axs[0,0].plot(cd.cpu()[idx, ...], cc.cpu()[idx, ..., 3])\n",
    "\n",
    "axs[0,1].set_title(\"Fines\")\n",
    "axs[0,1].plot(fd.cpu()[idx, ...], fc.cpu()[idx, ..., 3])\n",
    "\n",
    "axs[1,0].set_title(\"Alphas\")\n",
    "axs[1,0].plot(fd.cpu()[idx, ...], alpha.cpu()[idx, ...])\n",
    "\n",
    "axs[1,1].set_title(\"Weights\")\n",
    "axs[1,1].plot(fd.cpu()[idx, ...], weights.cpu()[idx, ...])\n",
    "\n",
    "for ax in axs.flatten():\n",
    "    ax.axvline(depth[idx].item(), color=\"red\")\n",
    "    ax.set_xlim(3.1, 3.4)\n",
    "\n",
    "print(depth[idx])"
   ]
  },
  {
   "cell_type": "code",
   "execution_count": null,
   "id": "d02c32aa",
   "metadata": {},
   "outputs": [],
   "source": [
    "mask = (depth < model.hparams.near).cpu()\n",
    "\n",
    "points = origins[20:50, 20:50].flatten(0,1)[mask] + depth.unsqueeze(-1).cpu()[mask] * directions[20:50, 20:50].flatten(0,1)[mask]\n",
    "\n",
    "fig, ax = plt.subplots(1, 1, figsize=(8,8), subplot_kw={\"projection\": \"3d\"})\n",
    "ax.plot(points[:, 0], points[:, 1], points[:, 2], linewidth=0, markersize=2, marker='o', color=\"#000B\")\n",
    "ax.view_init(00, 180, 0)\n",
    "\n",
    "points.shape"
   ]
  }
 ],
 "metadata": {
  "kernelspec": {
   "display_name": ".venv",
   "language": "python",
   "name": "python3"
  },
  "language_info": {
   "codemirror_mode": {
    "name": "ipython",
    "version": 3
   },
   "file_extension": ".py",
   "mimetype": "text/x-python",
   "name": "python",
   "nbconvert_exporter": "python",
   "pygments_lexer": "ipython3",
   "version": "3.12.4"
  }
 },
 "nbformat": 4,
 "nbformat_minor": 5
}
